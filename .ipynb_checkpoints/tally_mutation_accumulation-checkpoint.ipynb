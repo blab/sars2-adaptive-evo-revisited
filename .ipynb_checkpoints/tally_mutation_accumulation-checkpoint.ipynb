{
 "cells": [
  {
   "cell_type": "code",
   "execution_count": 2,
   "id": "68f112e3",
   "metadata": {},
   "outputs": [],
   "source": [
    "from Bio import Phylo\n",
    "from Bio import SeqIO\n",
    "from augur.utils import json_to_tree\n",
    "from augur.utils import json_to_tree\n",
    "import matplotlib.pyplot as plt\n",
    "import matplotlib.gridspec as gridspec\n",
    "import seaborn as sns\n",
    "import numpy as np\n",
    "import pandas as pd\n",
    "import requests\n",
    "import json"
   ]
  },
  {
   "cell_type": "code",
   "execution_count": 3,
   "id": "4003fda3",
   "metadata": {},
   "outputs": [],
   "source": [
    "#path to tree json\n",
    "tree_file = '../auspice_033023/ncov_gisaid_adaptive-evolution-2023-03-30.json'\n",
    "\n",
    "with open(tree_file, 'r') as f:\n",
    "    tree_json = json.load(f)\n",
    "\n",
    "#put tree in Bio.phylo format\n",
    "tree = json_to_tree(tree_json)"
   ]
  },
  {
   "cell_type": "code",
   "execution_count": 1,
   "id": "47f736c2",
   "metadata": {},
   "outputs": [],
   "source": [
    "# creates a dictonary for each gene of interest and counts the number of mutations accumulated \n",
    "# throughout the path for each tree tip\n",
    "\n",
    "genes_of_interest = [\"ORF1a\", \"ORF1b\", \"S\", \"ORF3a\", \"E\", \"M\", \"ORF6\", \"ORF7a\", \"ORF7b\", \"ORF8\", \"N\", \"ORF9b\"]\n",
    "\n",
    "# create a dictionary for each gene of interest to store mutation counts for each tip\n",
    "mutation_counts_by_gene = {}\n",
    "for gene in genes_of_interest:\n",
    "    mutation_counts_by_gene[gene] = {}\n",
    "\n",
    "# loop through each tip and count mutations\n",
    "for node in tree.find_clades(terminal=True): #loops through each terminal node in the tree\n",
    "\n",
    "    path = tree.get_path(node) #gets path from the root of the tree to the current node\n",
    "    path_mutations = [] #creates an empty list to store the mutations along path\n",
    "    count+=1\n",
    "    for i in range(len(path) - 1): #loops through each branch along the path, except for the last one (which leads to the current node)\n",
    "        path_mutations += path[i].branch_attrs.get(\"mutations\", []) #adds the mutations along the current branch to list    \n",
    "        \"\"\"\n",
    "        Here you are just adding the keys of the mutations dictionary to `path_mutations`\n",
    "        Try printing `path_mutations` to see this.\n",
    "        Since you are looking at ALL genes at this stage, I think `path_mutations` would work better as a dictionary \n",
    "        rather than a list for the strategy you're going for here.\n",
    "        After making `path_mutations` a dictionary, you will want to use the .update() function \n",
    "        to add mutations to `path_mutations` at each node you pass within this loop.\n",
    "        After implementing this, you can try printing `branch_attrs['mutations']` and `path_mutations` within this loop \n",
    "        to convince yourself that the dictionary is updating whenever you loop over a node that has mutations\n",
    "        \"\"\"\n",
    "\n",
    "    for gene in genes_of_interest: #loops through each gene of interest\n",
    "        gene_mutation_count = 0 #initializes a count of the mutations for the current gene to zero\n",
    "\n",
    "        for mutation in path_mutations: # loops through each mutation along the path\n",
    "            \"\"\"\n",
    "            I don't think `mutation` here is what you are expecting it to be-\n",
    "            try printing `mutation` to see what you are actually looping through here.\n",
    "            If you choose to make `path_mutations` a dictionary as I suggested above, \n",
    "            you'll be able access to all of the mutations that occurred along path, for each gene. \n",
    "            Then, since you are looping through genes here, you can access all of the mutations \n",
    "            for `gene` from the dictionary\n",
    "            \"\"\"\n",
    "\n",
    "            if mutation.split(\":\")[0] == gene: #checks if mutation is in current gene of interest\n",
    "                gene_mutation_count += 1 #adds the mutation count +1 if mutation is in gene\n",
    "                \"\"\"\n",
    "                +=1 will just add 1 for the list of mutations within `gene`. \n",
    "                You want to count how many mutations are in that list\n",
    "                \"\"\"\n",
    "        # store mutation count for tip in dictionary\n",
    "        mutation_counts_by_gene[gene][node.name] = gene_mutation_count\n",
    "\n",
    "        \n",
    "        "
   ]
  },
  {
   "cell_type": "code",
   "execution_count": null,
   "id": "84f64c01",
   "metadata": {},
   "outputs": [],
   "source": []
  },
  {
   "cell_type": "code",
   "execution_count": null,
   "id": "edd94bf1",
   "metadata": {},
   "outputs": [],
   "source": []
  }
 ],
 "metadata": {
  "kernelspec": {
   "display_name": "Python 3 (ipykernel)",
   "language": "python",
   "name": "python3"
  },
  "language_info": {
   "codemirror_mode": {
    "name": "ipython",
    "version": 3
   },
   "file_extension": ".py",
   "mimetype": "text/x-python",
   "name": "python",
   "nbconvert_exporter": "python",
   "pygments_lexer": "ipython3",
   "version": "3.9.7"
  }
 },
 "nbformat": 4,
 "nbformat_minor": 5
}
