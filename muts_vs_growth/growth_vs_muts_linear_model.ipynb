{
 "cells": [
  {
   "cell_type": "code",
   "execution_count": 10,
   "id": "83cff66b",
   "metadata": {},
   "outputs": [],
   "source": [
    "from augur.utils import json_to_tree\n",
    "import pandas as pd\n",
    "import json\n",
    "import matplotlib.pyplot as plt\n",
    "import seaborn as sns\n",
    "from matplotlib.lines import Line2D  \n",
    "import numpy as np\n",
    "from sklearn.linear_model import LinearRegression"
   ]
  },
  {
   "cell_type": "markdown",
   "id": "9c4b672c",
   "metadata": {},
   "source": [
    "### Linear model to predict growth rate from mutations on gene"
   ]
  },
  {
   "cell_type": "code",
   "execution_count": 2,
   "id": "13cf0408",
   "metadata": {},
   "outputs": [],
   "source": [
    "all_genes = ['Nsp1', 'Nsp2', 'Nsp3', 'Nsp4', 'Nsp5', 'Nsp6', 'Nsp7', 'Nsp8', \n",
    "             'Nsp9', 'Nsp10', 'Nsp12', 'Nsp13', 'Nsp14', 'Nsp15', 'Nsp16', \n",
    "             'S', 'S1', 'S2', 'ORF3a', 'E', 'M', 'ORF6', 'ORF7a', \n",
    "             'ORF7b', 'ORF8', 'N', 'ORF9b', 'ORF10']"
   ]
  },
  {
   "cell_type": "code",
   "execution_count": 3,
   "id": "360588f0",
   "metadata": {},
   "outputs": [],
   "source": [
    "def readin_tree(date, tree_type):\n",
    "    \"\"\"\n",
    "    Read in the 2m tree json for the specified date\n",
    "    \"\"\"\n",
    "\n",
    "    # path to tree json\n",
    "    if tree_type == 'sars2':\n",
    "        tree_file = f'trees_w_mut_counts/sars2_{date}_2m.json'\n",
    "    elif tree_type == '21L':\n",
    "        tree_file = f'trees_w_mut_counts/sars2_21L_{date}_2m.json'    \n",
    "\n",
    "    with open(tree_file, 'r') as f:\n",
    "        tree_json = json.load(f)\n",
    "\n",
    "    # put tree in Bio.phylo format\n",
    "    tree = json_to_tree(tree_json)\n",
    "    \n",
    "    return tree"
   ]
  },
  {
   "cell_type": "code",
   "execution_count": 68,
   "id": "cdb1e185",
   "metadata": {},
   "outputs": [],
   "source": [
    "def get_mut_and_growth_info(date, tree_type):\n",
    "    \"\"\"\n",
    "    Get logistic growth and number of mutations for each node in the tree\n",
    "    Return a dataframe where each row is has this information for a given node.\n",
    "    \n",
    "    Also return this information as a list of Y and X's multiple linear regression, \n",
    "    where x should be a list of lists where each sublist is the mutations per gene \n",
    "    for nodeA, for each node in the tree.\n",
    "    Order of X is given by the list `all_genes`.\n",
    "    y is a list of logistic growth rate at each node in the tree.\n",
    "    \"\"\"\n",
    "    tree = readin_tree(date, tree_type)\n",
    "    \n",
    "    mut_and_growth_info = []\n",
    "    \n",
    "    # Xs will be nonsynonymous mutations at each gene, for each node\n",
    "    X_list = []\n",
    "    # Ys will be logistic growth rate, for each node\n",
    "    Y_list = []\n",
    "    \n",
    "    for node in tree.find_clades():\n",
    "        # only for nodes that have an assigned logistic growht rate (those that are in the past 6 weeks)\n",
    "        if 'logistic_growth' in node.node_attrs:\n",
    "            logistic_growth = node.node_attrs['logistic_growth']['value']\n",
    "            # look at mutations in each gene\n",
    "            # list of mutation count per gene at this node. Ordered by `all_genes`\n",
    "            nonsyn_mut_list = []\n",
    "            nonsyn_muts = {}\n",
    "            syn_muts = {}\n",
    "            stop_muts = {}\n",
    "            \n",
    "            for gene in all_genes:\n",
    "                nonsyn_mut_list.append(node.mut_accumulation['Nonsyn_muts'][gene])\n",
    "                nonsyn_muts[f'{gene}_nonsyn'] = node.mut_accumulation['Nonsyn_muts'][gene]\n",
    "                syn_muts[f'{gene}_syn'] = node.mut_accumulation['Syn_muts'][gene]\n",
    "                stop_muts[f'{gene}_stop'] = node.mut_accumulation['Stop_muts'][gene]\n",
    "            \n",
    "            X_list.append(nonsyn_mut_list)\n",
    "            Y_list.append(logistic_growth)\n",
    "                \n",
    "            mut_and_growth_info.append({'date': date, 'gene':gene, 'node': node.name,\n",
    "                                        'logistic_growth': logistic_growth, \n",
    "                                        **nonsyn_muts, **syn_muts, **stop_muts})\n",
    "\n",
    "    df = pd.DataFrame(mut_and_growth_info)\n",
    "    \n",
    "    # make mutations counts \"relative\"\n",
    "    # meaning, for each timepoint, give the mutation count as (absolute_count - avg_count_in_gene)\n",
    "    X_relative_list_by_gene = []\n",
    "    for i in range(len(all_genes)):\n",
    "        absolute_mut_counts_for_gene = [x[i] for x in X_list]\n",
    "        gene_avg = sum(absolute_mut_counts_for_gene)/len(absolute_mut_counts_for_gene)\n",
    "        relative_mut_counts_for_gene = [x-gene_avg for x in absolute_mut_counts_for_gene]\n",
    "        X_relative_list_by_gene.append(relative_mut_counts_for_gene)\n",
    "    \n",
    "    # transpose the by_gene list to get by node, which is how Y values are listed\n",
    "    X_relative_list = np.array(X_relative_list_by_gene).T.tolist()\n",
    "    \n",
    "    return df, X_list, X_relative_list, Y_list"
   ]
  },
  {
   "cell_type": "code",
   "execution_count": 69,
   "id": "4983b566",
   "metadata": {},
   "outputs": [],
   "source": [
    "# get data for all genes, all timepoints\n",
    "all_dates = ['2020-03', '2020-05', '2020-07', '2020-09', '2020-11', \n",
    "             '2021-01', '2021-03', '2021-05', '2021-07', '2021-09', '2021-11', \n",
    "             '2022-01', '2022-03', '2022-05', '2022-07', '2022-09', '2022-11', \n",
    "             '2023-01', '2023-03', '2023-05']\n",
    "sars2_df = pd.DataFrame()\n",
    "#combine Xs and Ys for all timepoints\n",
    "sars2_X = []\n",
    "sars2_relative_X = []\n",
    "sars2_Y = []\n",
    "\n",
    "for d in all_dates:\n",
    "    df_date, X_list_date, X_relative_list_date, Y_list_date = get_mut_and_growth_info(d, 'sars2')\n",
    "    sars2_df = pd.concat([sars2_df, df_date])\n",
    "    sars2_X+=X_list_date\n",
    "    sars2_relative_X+=X_relative_list_date\n",
    "    sars2_Y+=Y_list_date"
   ]
  },
  {
   "cell_type": "code",
   "execution_count": 94,
   "id": "525ae1f9",
   "metadata": {},
   "outputs": [],
   "source": [
    "# save json for Trevor\n",
    "data_to_save = {'gene_order': all_genes, \n",
    "                'relative_mut_counts': sars2_relative_X, \n",
    "                'mut_counts': sars2_X, \n",
    "                'logistic_growth_rates': sars2_Y}\n",
    "\n",
    "# Serializing json\n",
    "json_object = json.dumps(data_to_save, indent=2)\n",
    "\n",
    "#write json\n",
    "with open(\"allSARS2_muts_v_growth.json\", \"w\") as outfile:\n",
    "    outfile.write(json_object)"
   ]
  },
  {
   "cell_type": "code",
   "execution_count": 70,
   "id": "80c2d524",
   "metadata": {},
   "outputs": [],
   "source": [
    "# get data for all genes, all timepoints for 21L-only builds\n",
    "all_dates_21L = ['2022-03', '2022-04', '2022-05', '2022-06', '2022-07', \n",
    "             '2022-08', '2022-09', '2022-10', '2022-11', \n",
    "             '2023-01', '2023-02', '2023-03', '2023-04', '2023-05', '2023-06']\n",
    "\n",
    "sars221L_df = pd.DataFrame()\n",
    "#combine Xs and Ys for all timepoints\n",
    "sars221L_X = []\n",
    "sars221L_relative_X = []\n",
    "sars221L_Y = []\n",
    "\n",
    "for d in all_dates_21L:\n",
    "    df_date, X_list_date, X_relative_list_date, Y_list_date = get_mut_and_growth_info(d, '21L')\n",
    "    sars221L_df = pd.concat([sars221L_df, df_date])\n",
    "    sars221L_X+=X_list_date\n",
    "    sars221L_relative_X+=X_relative_list_date\n",
    "    sars221L_Y+=Y_list_date"
   ]
  },
  {
   "cell_type": "code",
   "execution_count": 80,
   "id": "dadae84f",
   "metadata": {},
   "outputs": [],
   "source": [
    "def linear_model(X_list, Y_list):\n",
    "    \"\"\"\n",
    "    Predict Y (logisitc clade growth) from a set of X's (mutations in gene)\n",
    "    Combine all dates\n",
    "    \"\"\"\n",
    "    \n",
    "    # make lists into numpy arrays\n",
    "    x, y = np.array(X_list), np.array(Y_list)\n",
    "    \n",
    "    # create instance of LinearRegression and fit it to data \n",
    "    model = LinearRegression().fit(x, y)\n",
    "    r_sq = model.score(x, y)\n",
    "    print(f\"coefficient of determination: {r_sq}\\n\")\n",
    "    \n",
    "    coefficients = model.coef_\n",
    "#     print(sorted(coefficients))\n",
    "    for i in range(len(all_genes)):\n",
    "        g = all_genes[i]\n",
    "        c = coefficients[i]\n",
    "        print(f'{g} coefficient: {c}')\n",
    "    \n",
    "    "
   ]
  },
  {
   "cell_type": "code",
   "execution_count": 81,
   "id": "115e8527",
   "metadata": {},
   "outputs": [
    {
     "name": "stdout",
     "output_type": "stream",
     "text": [
      "coefficient of determination: 0.3386739245559056\n",
      "\n",
      "Nsp1 coefficient: 2.285234139028699\n",
      "Nsp2 coefficient: -0.030412781247482368\n",
      "Nsp3 coefficient: -0.33586862432714115\n",
      "Nsp4 coefficient: 0.8212857158345233\n",
      "Nsp5 coefficient: -0.6106388827318456\n",
      "Nsp6 coefficient: -0.7870579832935483\n",
      "Nsp7 coefficient: 1.1788284202224413\n",
      "Nsp8 coefficient: -0.9321742530151544\n",
      "Nsp9 coefficient: 0.0742433925190154\n",
      "Nsp10 coefficient: -0.6934564422508988\n",
      "Nsp12 coefficient: 0.75263748560281\n",
      "Nsp13 coefficient: 0.5255435897590162\n",
      "Nsp14 coefficient: -0.05975816548452148\n",
      "Nsp15 coefficient: 0.9209301965395342\n",
      "Nsp16 coefficient: 0.16905972478643289\n",
      "S coefficient: -0.3826027410028662\n",
      "S1 coefficient: 1.545801551692052\n",
      "S2 coefficient: 0.08522783388095792\n",
      "ORF3a coefficient: -0.3374398679776279\n",
      "E coefficient: 1.3677258206554226\n",
      "M coefficient: 1.933970533793066\n",
      "ORF6 coefficient: -0.9913685501397023\n",
      "ORF7a coefficient: 0.5196287806972777\n",
      "ORF7b coefficient: 1.2066538006483005\n",
      "ORF8 coefficient: 0.18989630874766172\n",
      "N coefficient: 0.429295924751818\n",
      "ORF9b coefficient: 0.3177475628902962\n",
      "ORF10 coefficient: -0.9030628352943214\n"
     ]
    }
   ],
   "source": [
    "# run model with all dates, and relative mutation counts\n",
    "linear_model(sars2_relative_X, sars2_Y)"
   ]
  },
  {
   "cell_type": "code",
   "execution_count": 82,
   "id": "cd19750c",
   "metadata": {},
   "outputs": [
    {
     "name": "stdout",
     "output_type": "stream",
     "text": [
      "coefficient of determination: 0.03518091300566972\n",
      "\n",
      "Nsp1 coefficient: 0.6612223926192435\n",
      "Nsp2 coefficient: -0.1506792311623942\n",
      "Nsp3 coefficient: -0.1896739602047245\n",
      "Nsp4 coefficient: -0.19950757233343025\n",
      "Nsp5 coefficient: -0.5370080412712569\n",
      "Nsp6 coefficient: -0.4062194476064762\n",
      "Nsp7 coefficient: 1.0073163331905304\n",
      "Nsp8 coefficient: -0.9306738653318737\n",
      "Nsp9 coefficient: -0.29953552871903755\n",
      "Nsp10 coefficient: -0.37655783774183943\n",
      "Nsp12 coefficient: 0.0615228628508013\n",
      "Nsp13 coefficient: 0.1228746569592328\n",
      "Nsp14 coefficient: -0.1366762087285849\n",
      "Nsp15 coefficient: -0.20128718209757643\n",
      "Nsp16 coefficient: 0.138678985117319\n",
      "S coefficient: -0.5096602651870573\n",
      "S1 coefficient: 0.5352329046241211\n",
      "S2 coefficient: 0.6580600427259035\n",
      "ORF3a coefficient: -0.4749512632193728\n",
      "E coefficient: 1.619349699275942\n",
      "M coefficient: -0.24880385242946232\n",
      "ORF6 coefficient: -0.13745313954998062\n",
      "ORF7a coefficient: 0.4821984178879251\n",
      "ORF7b coefficient: 0.48808097081436413\n",
      "ORF8 coefficient: -0.06639313899234497\n",
      "N coefficient: -0.3175787706521675\n",
      "ORF9b coefficient: -0.08143136478484793\n",
      "ORF10 coefficient: -1.5042469789956041\n"
     ]
    }
   ],
   "source": [
    "# run model with all dates, and absolute mutation counts\n",
    "linear_model(sars2_X, sars2_Y)"
   ]
  },
  {
   "cell_type": "code",
   "execution_count": 92,
   "id": "d1098631",
   "metadata": {},
   "outputs": [
    {
     "name": "stdout",
     "output_type": "stream",
     "text": [
      "coefficient of determination: 0.3637581916427015\n",
      "\n",
      "Nsp1 coefficient: 0.43798124029717245\n",
      "Nsp2 coefficient: 0.025123015595105658\n",
      "Nsp3 coefficient: -0.0332638347881984\n",
      "Nsp4 coefficient: -1.550012626484849\n",
      "Nsp5 coefficient: -0.5980677802710976\n",
      "Nsp6 coefficient: 0.1453015192057636\n",
      "Nsp7 coefficient: 0.15929061356584437\n",
      "Nsp8 coefficient: -0.6410039339482044\n",
      "Nsp9 coefficient: 1.713413100640249\n",
      "Nsp10 coefficient: -0.5807024728244552\n",
      "Nsp12 coefficient: -0.5447157805197039\n",
      "Nsp13 coefficient: 0.459336210087338\n",
      "Nsp14 coefficient: -0.10240906673558307\n",
      "Nsp15 coefficient: -0.7403706068037291\n",
      "Nsp16 coefficient: -0.18903233518455945\n",
      "S coefficient: -0.7353926375902275\n",
      "S1 coefficient: 2.3013664341644806\n",
      "S2 coefficient: 0.619304455614992\n",
      "ORF3a coefficient: -0.3012767814397545\n",
      "E coefficient: 1.242454854627707\n",
      "M coefficient: 4.060183058584254\n",
      "ORF6 coefficient: -0.41981286305995213\n",
      "ORF7a coefficient: -0.14536172864676317\n",
      "ORF7b coefficient: 1.2818127655942837\n",
      "ORF8 coefficient: -1.1237433950620588\n",
      "N coefficient: 0.4734453311115618\n",
      "ORF9b coefficient: 0.9794357807633722\n",
      "ORF10 coefficient: -0.07179044173968192\n"
     ]
    }
   ],
   "source": [
    "# run model with all dates, and relative mutation counts, for 21L-only\n",
    "linear_model(sars221L_relative_X, sars221L_Y)"
   ]
  },
  {
   "cell_type": "code",
   "execution_count": null,
   "id": "14d6a33b",
   "metadata": {},
   "outputs": [],
   "source": []
  },
  {
   "cell_type": "code",
   "execution_count": null,
   "id": "c8f3c7b6",
   "metadata": {},
   "outputs": [],
   "source": []
  },
  {
   "cell_type": "code",
   "execution_count": null,
   "id": "272b8aaa",
   "metadata": {},
   "outputs": [],
   "source": []
  },
  {
   "cell_type": "markdown",
   "id": "4f9792dd",
   "metadata": {},
   "source": [
    "Try each date individually, and without S (in case the overlapping info of S/S1/S2 is messing things up)"
   ]
  },
  {
   "cell_type": "code",
   "execution_count": 74,
   "id": "b2f3a14d",
   "metadata": {},
   "outputs": [],
   "source": [
    "def linear_model_by_date(date, tree_type):\n",
    "    \"\"\"\n",
    "    Predict Y (logisitc clade growth) from a set of X's (mutations in gene)\n",
    "    Combine all dates\n",
    "    \"\"\"\n",
    "    \n",
    "    df, X_list, X_relative_list, Y_list = get_mut_and_growth_info(date, tree_type)\n",
    "    \n",
    "    # S is 15th element in each list\n",
    "    S_removed = [x.pop(15) for x in X_list]\n",
    "    all_genes_wo_S = all_genes[0:15]+all_genes[16:]\n",
    "    \n",
    "    # make lists into numpy arrays\n",
    "    x, y = np.array(X_list), np.array(Y_list)\n",
    "    \n",
    "    # create instance of LinearRegression and fit it to data \n",
    "    model = LinearRegression().fit(x, y)\n",
    "    r_sq = model.score(x, y)\n",
    "    print(f\"coefficient of determination: {r_sq}\\n\")\n",
    "    \n",
    "    coefficients = model.coef_\n",
    "    for i in range(len(all_genes_wo_S)):\n",
    "        g = all_genes_wo_S[i]\n",
    "        c = coefficients[i]\n",
    "        print(f'{g} coefficient: {c}')"
   ]
  },
  {
   "cell_type": "code",
   "execution_count": null,
   "id": "14937cc6",
   "metadata": {},
   "outputs": [],
   "source": [
    "# all_dates = ['2020-03', '2020-05', '2020-07', '2020-09', '2020-11', \n",
    "#              '2021-01', '2021-03', '2021-05', '2021-07', '2021-09', '2021-11', \n",
    "#              '2022-01', '2022-03', '2022-05', '2022-07', '2022-09', '2022-11', \n",
    "#              '2023-01', '2023-03', '2023-05']"
   ]
  },
  {
   "cell_type": "code",
   "execution_count": 93,
   "id": "f2c695f6",
   "metadata": {},
   "outputs": [
    {
     "name": "stdout",
     "output_type": "stream",
     "text": [
      "coefficient of determination: 0.7470534969438616\n",
      "\n",
      "Nsp1 coefficient: 1.4057200775668062\n",
      "Nsp2 coefficient: -0.7550708612741635\n",
      "Nsp3 coefficient: -0.16879180175335107\n",
      "Nsp4 coefficient: 0.2720460918394415\n",
      "Nsp5 coefficient: 0.7629031558794598\n",
      "Nsp6 coefficient: 0.1635630410071834\n",
      "Nsp7 coefficient: 0.8792391566051786\n",
      "Nsp8 coefficient: -2.0055092100616445\n",
      "Nsp9 coefficient: -0.8612183827183594\n",
      "Nsp10 coefficient: -0.5191439508057052\n",
      "Nsp12 coefficient: -0.5737575837289781\n",
      "Nsp13 coefficient: -0.666317792690625\n",
      "Nsp14 coefficient: -0.1455834102456039\n",
      "Nsp15 coefficient: -0.5966779317244327\n",
      "Nsp16 coefficient: -1.5707790822100776\n",
      "S1 coefficient: 0.5239127648906412\n",
      "S2 coefficient: -0.2967926624901597\n",
      "ORF3a coefficient: 0.040951047100089115\n",
      "E coefficient: 1.9287812661212846\n",
      "M coefficient: -0.9856540339491371\n",
      "ORF6 coefficient: 1.336004865076616\n",
      "ORF7a coefficient: 1.802155845107335\n",
      "ORF7b coefficient: -0.6531741244862826\n",
      "ORF8 coefficient: -0.1852010560377825\n",
      "N coefficient: -1.5075904915720044\n",
      "ORF9b coefficient: 2.997379176025451\n",
      "ORF10 coefficient: -0.899499718950229\n"
     ]
    }
   ],
   "source": [
    "# run model on individual date only\n",
    "\n",
    "linear_model_by_date('2023-05', 'sars2')"
   ]
  },
  {
   "cell_type": "code",
   "execution_count": null,
   "id": "e38733a1",
   "metadata": {},
   "outputs": [],
   "source": []
  }
 ],
 "metadata": {
  "kernelspec": {
   "display_name": "Python 3 (ipykernel)",
   "language": "python",
   "name": "python3"
  },
  "language_info": {
   "codemirror_mode": {
    "name": "ipython",
    "version": 3
   },
   "file_extension": ".py",
   "mimetype": "text/x-python",
   "name": "python",
   "nbconvert_exporter": "python",
   "pygments_lexer": "ipython3",
   "version": "3.9.7"
  }
 },
 "nbformat": 4,
 "nbformat_minor": 5
}
